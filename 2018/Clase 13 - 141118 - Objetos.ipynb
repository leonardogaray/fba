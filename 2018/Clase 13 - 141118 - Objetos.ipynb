{
 "cells": [
  {
   "cell_type": "markdown",
   "metadata": {},
   "source": [
    "# Programación Orientada a Objetos\n",
    "\n",
    "Los objetos son una de las herramientas de la programación que nos permiten representar la solución a un problema de la forma menos abstracta posible. Hasta ahora, nuestras representaciones se basaban en conjuntos de variable o funciones, y somos nosotros, los creadores los que entendemos que es lo que hace el programa ... pero que sucede cuando otra persona debe continuar nuestro trabajo? Como puede entender que x, y, p, t o las variables que hayamos puesto, se encarguen de representar algo en especial.\n",
    "Los objetos nos permiten hacer uso de todos los temas vistos hasta el momento, y darle un sentido mas transparente a la representación de un problema"
   ]
  },
  {
   "cell_type": "markdown",
   "metadata": {},
   "source": [
    "# Clases - Propiedades - Métodos - Constructores\n",
    "\n",
    "Se denomina clase a la estructura que vamos a utilizar para realizar una representación, por ejemplo Auto (Los nombres de las clases siempre empiezan con mayúsculas)."
   ]
  },
  {
   "cell_type": "code",
   "execution_count": null,
   "metadata": {},
   "outputs": [],
   "source": [
    "class Auto{\n",
    "    \n",
    "}"
   ]
  },
  {
   "cell_type": "markdown",
   "metadata": {},
   "source": [
    "Un Auto, posee color, tipo de combustible, cantidad puertas, etc. .... o sea, tiene PROPIEDADES que lo definen. Estas PROPIEDADES las podemos definir en la clase Auto. Cada PROPIEDAD la vamos a representar con una variable, indicando el tipo de la misma."
   ]
  },
  {
   "cell_type": "code",
   "execution_count": null,
   "metadata": {},
   "outputs": [],
   "source": [
    "class Auto{\n",
    "    color colorAuto;\n",
    "    String tipoCombustible;\n",
    "    int cantidadPuertas;\n",
    "}"
   ]
  },
  {
   "cell_type": "markdown",
   "metadata": {},
   "source": [
    "Las PROPIEDADES nos van a definir las cosas que posee una clase, pero también debemos definir las acciones que puede realizar a traves de MÉTODOS, por ejemplo: arrancar, detener, avanzar, retroceder, girarDerecha, etc. Los MÉTODOS los vamos a representar a través de funciones dentro de la clase. Recordemos que las mismas pueden retornar valores (boolean, String, int, etc), o no (void), y aparte, reciben parámetros que permiten que esa función posea un comportamiento diferente."
   ]
  },
  {
   "cell_type": "code",
   "execution_count": null,
   "metadata": {},
   "outputs": [],
   "source": [
    "class Auto{\n",
    "    color colorAuto;\n",
    "    String tipoCombustible;\n",
    "    int cantidadPuertas;\n",
    "    \n",
    "    void arrancar(){}\n",
    "    \n",
    "    void detener(){}\n",
    "    \n",
    "    void acelerar(int fuerza){}\n",
    "    \n",
    "    void frenar(int fuerza){}\n",
    "}"
   ]
  },
  {
   "cell_type": "markdown",
   "metadata": {},
   "source": [
    "Ya tenemos la clase AUTO :D"
   ]
  },
  {
   "cell_type": "markdown",
   "metadata": {},
   "source": [
    "# Clases vs Objetos (o instancias)\n",
    "\n",
    "Cuando armamos una clase, debemos comprender que armamos la estructura que define a una entidad, en el caso de nuestro ejemplo, un Auto. Si deseo tener 10 Autos, no debo hacer 10 Clases Auto llamada Auto1, Auto2, Auto3 ...., sino, crear OBJETOS ó INSTANCIAS de la misma.\n",
    "Los OBJETOS son lo que diferencia a un Auto, de otro Auto. A continuación vemos como se crea un OBJETO"
   ]
  },
  {
   "cell_type": "code",
   "execution_count": null,
   "metadata": {},
   "outputs": [],
   "source": [
    "Auto auto1 = new Auto();\n",
    "Auto auto2 = new Auto();"
   ]
  },
  {
   "cell_type": "markdown",
   "metadata": {},
   "source": [
    "Acabamos de crear 2 objetos, auto1 y auto2. Los mismos son variables donde su tipo, en lugar de ser int, float ó String, es Auto .... o sea, una clase es un nuevo tipo de variable creado por  nosotros.\n",
    "Cuando creamos estas variables, se van a crear espacios de memoria que contendrán los atributos de la clase correspondiente. Ve mos a continuación una representación de la memoria con cada variable creada:\n",
    "\n",
    "auto1:\n",
    "   colorAuto=(0,0,0)\n",
    "   tipoCombustible=\"\"\n",
    "   cantidadPuertas=0\n",
    "\n",
    "auto2:\n",
    "   colorAuto=(0,0,0)\n",
    "   tipoCombustible=\"\"\n",
    "   cantidadPuertas=0"
   ]
  },
  {
   "cell_type": "markdown",
   "metadata": {},
   "source": [
    "# Constructores\n",
    "\n",
    "Los constructores son MÉTODOS particulares que son invocados al crear un objeto. Estos métodos poseen el mismo nombre de la clase, y podemos, así como los métodos, hacer todos los que querramos, mientras posean diferentes parámetros."
   ]
  },
  {
   "cell_type": "code",
   "execution_count": null,
   "metadata": {},
   "outputs": [],
   "source": [
    "class Auto{\n",
    "    color colorAuto;\n",
    "    String tipoCombustible;\n",
    "    int cantidadPuertas;\n",
    "    \n",
    "    Auto(){}\n",
    "    \n",
    "    Auto(color _colorAuto){}\n",
    "    \n",
    "    Auto(color _colorAuto, String _tipoCombustible){}\n",
    "    \n",
    "    void arrancar(){}\n",
    "    \n",
    "    void detener(){}\n",
    "    \n",
    "    void acelerar(int fuerza){}\n",
    "    \n",
    "    void frenar(int fuerza){}\n",
    "}"
   ]
  },
  {
   "cell_type": "markdown",
   "metadata": {},
   "source": [
    "Con estos constructores, puedo crear un objeto auto, y definirle que color y tipo de combustible puede tener."
   ]
  }
 ],
 "metadata": {
  "kernelspec": {
   "display_name": "Calysto Processing",
   "language": "java",
   "name": "calysto_processing"
  },
  "language_info": {
   "codemirror_mode": {
    "name": "text/x-java",
    "version": 2
   },
   "file_extension": ".java",
   "mimetype": "text/x-java",
   "name": "java"
  }
 },
 "nbformat": 4,
 "nbformat_minor": 2
}
